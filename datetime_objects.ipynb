{
 "cells": [
  {
   "cell_type": "code",
   "execution_count": 1,
   "id": "b01ec5d9-4261-4d7a-a78b-ec532b9fa0ec",
   "metadata": {},
   "outputs": [
    {
     "data": {
      "text/plain": [
       "datetime.datetime(2025, 3, 30, 2, 24, 5, tzinfo=zoneinfo.ZoneInfo(key='Europe/Berlin'))"
      ]
     },
     "execution_count": 1,
     "metadata": {},
     "output_type": "execute_result"
    }
   ],
   "source": [
    "# 2am on 30.03.2025 doesn't exist, however, the datetime object can be created\n",
    "import datetime\n",
    "import zoneinfo\n",
    "datetime.datetime(2025, 3, 30, 2, 24, 5, tzinfo=zoneinfo.ZoneInfo(\"Europe/Berlin\"))"
   ]
  },
  {
   "cell_type": "code",
   "execution_count": 2,
   "id": "5ed20b5c-f732-433a-ad34-124603e483e4",
   "metadata": {},
   "outputs": [
    {
     "name": "stdout",
     "output_type": "stream",
     "text": [
      "UTC datetime: 2025-03-30 01:24:05.000036+00:00\n",
      "Berlin datetime: 2025-03-30 02:24:05.000036+01:00\n",
      "UTC offset for UTC datetime: 0:00:00\n",
      "UTC offset for Berlin datetime: 1:00:00\n",
      "Berlin datetime converted to UTC: 2025-03-30 01:24:05.000036+00:00\n",
      "Are they equal? False\n"
     ]
    }
   ],
   "source": [
    "# comparing two datetime objects with different timezone values\n",
    "import datetime\n",
    "import zoneinfo\n",
    "\n",
    "# Create the two datetime objects\n",
    "dt_utc = datetime.datetime(2025, 3, 30, 1, 24, 5, 36, tzinfo=datetime.timezone.utc)\n",
    "dt_berlin = datetime.datetime(2025, 3, 30, 2, 24, 5, 36, tzinfo=zoneinfo.ZoneInfo(\"Europe/Berlin\"))\n",
    "\n",
    "# Print both datetimes\n",
    "print(\"UTC datetime:\", dt_utc)\n",
    "print(\"Berlin datetime:\", dt_berlin)\n",
    "\n",
    "# Show their UTC offsets\n",
    "print(\"UTC offset for UTC datetime:\", dt_utc.utcoffset())\n",
    "print(\"UTC offset for Berlin datetime:\", dt_berlin.utcoffset())\n",
    "\n",
    "# Convert Berlin datetime to UTC for fair comparison\n",
    "dt_berlin_utc = dt_berlin.astimezone(datetime.timezone.utc)\n",
    "print(\"Berlin datetime converted to UTC:\", dt_berlin_utc)\n",
    "\n",
    "# Compare\n",
    "print(\"Are they equal?\", dt_utc == dt_berlin)\n"
   ]
  },
  {
   "cell_type": "code",
   "execution_count": 1,
   "id": "cfd7daef-c556-4ac1-b01e-8da5af5a3e99",
   "metadata": {},
   "outputs": [
    {
     "data": {
      "text/plain": [
       "True"
      ]
     },
     "execution_count": 1,
     "metadata": {},
     "output_type": "execute_result"
    }
   ],
   "source": [
    "# if we first convert to UTC, the same comparison yields True\n",
    "import datetime\n",
    "import zoneinfo\n",
    "dt_utc = datetime.datetime(2025, 3, 30, 1, 24, 5, 36, tzinfo=datetime.timezone.utc)\n",
    "dt_berlin = datetime.datetime(2025, 3, 30, 2, 24, 5, 36, tzinfo=zoneinfo.ZoneInfo(\"Europe/Berlin\"))\n",
    "dt_berlin_utc = dt_berlin.astimezone(datetime.timezone.utc)\n",
    "dt_utc == dt_berlin_utc"
   ]
  },
  {
   "cell_type": "code",
   "execution_count": 8,
   "id": "788a6a23-01d3-4671-952c-7e284a9a80b4",
   "metadata": {},
   "outputs": [
    {
     "data": {
      "text/plain": [
       "False"
      ]
     },
     "execution_count": 8,
     "metadata": {},
     "output_type": "execute_result"
    }
   ],
   "source": [
    "# On 26.10.2025, 00:00 UTC should be the same as 02:00 Berlin time\n",
    "import datetime\n",
    "import zoneinfo\n",
    "datetime.datetime(2025, 10, 26, 0, 59, 56, tzinfo=datetime.timezone.utc) == \\\n",
    "datetime.datetime(2025, 10, 26, 2, 59, 56, tzinfo=zoneinfo.ZoneInfo(key='Europe/Berlin'))"
   ]
  },
  {
   "cell_type": "code",
   "execution_count": 10,
   "id": "34d45d7e-78b0-4cf3-9b21-a8fe5a10f036",
   "metadata": {},
   "outputs": [
    {
     "data": {
      "text/plain": [
       "False"
      ]
     },
     "execution_count": 10,
     "metadata": {},
     "output_type": "execute_result"
    }
   ],
   "source": [
    "# On 26.10.2025, 01:00 UTC should be the same as the second occurence of 02:00 that day in Berlin time\n",
    "import datetime\n",
    "import zoneinfo\n",
    "datetime.datetime(2025, 10, 26, 1, 59, 56, tzinfo=datetime.timezone.utc) == \\\n",
    "datetime.datetime(2025, 10, 26, 2, 59, 56, fold=1, tzinfo=zoneinfo.ZoneInfo(key='Europe/Berlin'))"
   ]
  },
  {
   "cell_type": "code",
   "execution_count": 7,
   "id": "69d99d49-88ee-46f0-afb6-468846b5d98b",
   "metadata": {},
   "outputs": [
    {
     "data": {
      "text/plain": [
       "True"
      ]
     },
     "execution_count": 7,
     "metadata": {},
     "output_type": "execute_result"
    }
   ],
   "source": [
    "# On 26.10.2025, 02:00 UTC is the same as 03:00 Berlin time\n",
    "import datetime\n",
    "import zoneinfo\n",
    "datetime.datetime(2025, 10, 26, 2, 59, 56, tzinfo=datetime.timezone.utc) == \\\n",
    "datetime.datetime(2025, 10, 26, 3, 59, 56, tzinfo=zoneinfo.ZoneInfo(key='Europe/Berlin'))"
   ]
  },
  {
   "cell_type": "code",
   "execution_count": null,
   "id": "c337c63c-4bd0-4f0c-8788-569b25d1e1cd",
   "metadata": {},
   "outputs": [],
   "source": []
  }
 ],
 "metadata": {
  "kernelspec": {
   "display_name": "Python 3 (ipykernel)",
   "language": "python",
   "name": "python3"
  },
  "language_info": {
   "codemirror_mode": {
    "name": "ipython",
    "version": 3
   },
   "file_extension": ".py",
   "mimetype": "text/x-python",
   "name": "python",
   "nbconvert_exporter": "python",
   "pygments_lexer": "ipython3",
   "version": "3.12.7"
  }
 },
 "nbformat": 4,
 "nbformat_minor": 5
}
